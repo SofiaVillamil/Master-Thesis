{
 "cells": [
  {
   "cell_type": "code",
   "execution_count": 10,
   "id": "df563a25-2665-4315-bfbe-21511f412e9e",
   "metadata": {},
   "outputs": [
    {
     "name": "stdout",
     "output_type": "stream",
     "text": [
      "Navigating to: https://www.google.com/search?q=Leonardo DiCaprio site:instagram.com\n",
      "Waiting for search results to load...\n",
      "Search results loaded.\n",
      "Leonardo DiCaprio has 62M followers.\n",
      "Found verified account with 62M followers.\n"
     ]
    }
   ],
   "source": [
    "from selenium import webdriver\n",
    "from selenium.webdriver.chrome.service import Service\n",
    "from selenium.webdriver.common.by import By\n",
    "from selenium.webdriver.support.ui import WebDriverWait\n",
    "from selenium.webdriver.support import expected_conditions as EC\n",
    "import re\n",
    "import random\n",
    "import time\n",
    "\n",
    "def get_instagram_followers_from_google(name, driver):\n",
    "    try:\n",
    "        search_query = f\"{name} site:instagram.com\"\n",
    "        search_url = f\"https://www.google.com/search?q={search_query}\"\n",
    "        print(f\"Navigating to: {search_url}\")\n",
    "        driver.get(search_url)\n",
    "        \n",
    "        # Wait for search results to load\n",
    "        print(\"Waiting for search results to load...\")\n",
    "        WebDriverWait(driver, 20).until(EC.presence_of_element_located((By.XPATH, '//div[@class=\"VwiC3b yXK7lf lVm3ye r025kc hJNv6b\"]')))\n",
    "        print(\"Search results loaded.\")\n",
    "        \n",
    "        # Extract the followers count directly from the search results\n",
    "        result_elements = driver.find_elements(By.XPATH, '//div[@class=\"VwiC3b yXK7lf lVm3ye r025kc hJNv6b\"]/span')\n",
    "        for element in result_elements:\n",
    "            text = element.text\n",
    "            if \"followers\" in text.lower():\n",
    "                match = re.search(r'(\\d+(?:,\\d+)*M|\\d+(?:,\\d+)*K|\\d+(?:,\\d+)*) Followers', text)\n",
    "                if match:\n",
    "                    followers = match.group(1)\n",
    "                    followers = followers.replace(',', '')  # Clean the followers count\n",
    "                    print(f\"{name} has {followers} followers.\")\n",
    "                    return followers\n",
    "        \n",
    "        print(\"Followers count not found in search results.\")\n",
    "        return None\n",
    "    \n",
    "    except Exception as e:\n",
    "        print(f\"An error occurred: {e}\")\n",
    "        return None\n",
    "\n",
    "def process_name(name):\n",
    "    # Path to ChromeDriver executable\n",
    "    driver_path = 'C:/Program Files/chromedriver/chromedriver-win64/chromedriver.exe'  # Update with the actual path to chromedriver.exe\n",
    "    \n",
    "    # Set options for the Chrome WebDriver\n",
    "    options = webdriver.ChromeOptions()\n",
    "    options.add_argument(\"--headless\")\n",
    "    options.add_argument(\"--disable-gpu\")\n",
    "    options.add_argument(\"--no-sandbox\")\n",
    "    options.add_argument(\"user-agent=Mozilla/5.0 (Windows NT 10.0; Win64; x64) AppleWebKit/537.36 (KHTML, like Gecko) Chrome/121.0.0.0 Safari/537.36; Sofia Villamil / sofia.v1999@gmail.com\")\n",
    "    \n",
    "    # Initialize the Chrome WebDriver using Service\n",
    "    service = Service(driver_path)\n",
    "    driver = webdriver.Chrome(service=service, options=options)\n",
    "    \n",
    "    try:\n",
    "        # Introduce a random delay before making the request\n",
    "        time.sleep(random.uniform(3, 7))\n",
    "        \n",
    "        followers = get_instagram_followers_from_google(name, driver)\n",
    "        if followers:\n",
    "            print(f\"Found verified account with {followers} followers.\")\n",
    "        else:\n",
    "            print(\"No verified account found or an error occurred.\")\n",
    "    finally:\n",
    "        driver.quit()\n",
    "\n",
    "# Example usage\n",
    "if __name__ == \"__main__\":\n",
    "    name = \"Leonardo DiCaprio\"  # Replace with the actor or director's name\n",
    "    process_name(name)\n"
   ]
  }
 ],
 "metadata": {
  "kernelspec": {
   "display_name": "Python 3 (ipykernel)",
   "language": "python",
   "name": "python3"
  },
  "language_info": {
   "codemirror_mode": {
    "name": "ipython",
    "version": 3
   },
   "file_extension": ".py",
   "mimetype": "text/x-python",
   "name": "python",
   "nbconvert_exporter": "python",
   "pygments_lexer": "ipython3",
   "version": "3.11.7"
  }
 },
 "nbformat": 4,
 "nbformat_minor": 5
}
